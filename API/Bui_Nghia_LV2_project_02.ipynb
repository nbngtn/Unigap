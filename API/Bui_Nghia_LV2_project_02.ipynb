{
 "cells": [
  {
   "cell_type": "code",
   "execution_count": 2,
   "metadata": {},
   "outputs": [],
   "source": [
    "import requests\n",
    "import pandas as pd\n",
    "import re\n",
    "from pymongo import MongoClient\n",
    "from concurrent.futures import ProcessPoolExecutor\n",
    "from time import sleep\n",
    "import os\n",
    "import json\n",
    "import glob         "
   ]
  },
  {
   "cell_type": "code",
   "execution_count": 2,
   "metadata": {},
   "outputs": [],
   "source": [
    "df = pd.read_csv('Products ID.csv')\n",
    "ids = df['id'].tolist()"
   ]
  },
  {
   "cell_type": "code",
   "execution_count": 3,
   "metadata": {},
   "outputs": [],
   "source": [
    "header = {\n",
    "    'User-Agent': 'Mozilla/5.0 (Windows NT 10.0; Win64; x64) AppleWebKit/537.36 (KHTML, like Gecko) Chrome/58.0.3029.110 Safari/537.3'\n",
    "}\n",
    "keys = ['id','url_key','price','description','images']"
   ]
  },
  {
   "cell_type": "code",
   "execution_count": 14,
   "metadata": {},
   "outputs": [],
   "source": [
    "def clean_description(text):\n",
    "    text = re.sub(r'<[^>]*>', '', text)\n",
    "    text = re.sub(r'&nbsp;', '', text)\n",
    "    text = re.sub(r'\\xa0', '', text)\n",
    "    text = re.sub(r'&amp;', '&', text)\n",
    "    text = text.strip()\n",
    "    return text"
   ]
  },
  {
   "cell_type": "code",
   "execution_count": 5,
   "metadata": {},
   "outputs": [],
   "source": [
    "id_batch = [ids[i:i+100] for i in range(0, len(ids), 100)]"
   ]
  },
  {
   "cell_type": "code",
   "execution_count": 7,
   "metadata": {},
   "outputs": [],
   "source": [
    "def get_data(id):\n",
    "    output_holder = []\n",
    "    error_holder = []\n",
    "    url = f'https://api.tiki.vn/product-detail/api/v1/products/{id}'\n",
    "    response = requests.get(url, headers=header)\n",
    "    try:\n",
    "        data = response.json()\n",
    "        data['description'] = clean_description(data['description'])\n",
    "        output = {k: data[k] for k in keys}\n",
    "        output_holder.append(output)\n",
    "        print(f'ID: {id} - Done')\n",
    "    except Exception as e:\n",
    "        print(f'Error: {e}')\n",
    "        error_holder.append(id)\n",
    "    return output_holder, error_holder\n"
   ]
  },
  {
   "cell_type": "code",
   "execution_count": null,
   "metadata": {},
   "outputs": [],
   "source": [
    "\n",
    "for id_list in id_batch[]:\n",
    "    result = []\n",
    "    errors = []\n",
    "    with ProcessPoolExecutor() as executor:\n",
    "        for data, error in list(executor.map(get_data, id_list)):\n",
    "            result.extend(data)\n",
    "            errors.extend(error)\n",
    "    for file in glob.glob('*.json'):\n",
    "        with open(file) as f:\n",
    "            data = f.read()\n",
    "            json_objects = json.loads(result)\n",
    "            if os.path.exists('final.json'):\n",
    "                with open('final.json', 'r') as f:\n",
    "                    try:\n",
    "                        final_data = json.load(f)\n",
    "                    except json.JSONDecodeError:\n",
    "                        final_data = []\n",
    "                    final_data.extend(json_objects)\n",
    "                with open('final.json', 'w') as f:                      \n",
    "                    json.dump(final_data, f, indent=4)\n",
    "            else:    \n",
    "                with open('final.json', 'w') as f:\n",
    "                    json.dump(json_objects, f, indent=4)\n",
    "    print(f'Batch {id_batch.index(id_list)} - Done')\n",
    "    sleep(2)"
   ]
  },
  {
   "cell_type": "code",
   "execution_count": 20,
   "metadata": {},
   "outputs": [],
   "source": [
    "uri = 'mongodb://localhost:27017'\n",
    "client = MongoClient(uri)\n",
    "database = client['tiki']\n",
    "collection = database['products']\n",
    "with open('final.json') as f:\n",
    "    data = json.load(f)\n",
    "    collection.insert_many(data)"
   ]
  }
 ],
 "metadata": {
  "kernelspec": {
   "display_name": "unigap",
   "language": "python",
   "name": "python3"
  },
  "language_info": {
   "codemirror_mode": {
    "name": "ipython",
    "version": 3
   },
   "file_extension": ".py",
   "mimetype": "text/x-python",
   "name": "python",
   "nbconvert_exporter": "python",
   "pygments_lexer": "ipython3",
   "version": "3.12.4"
  }
 },
 "nbformat": 4,
 "nbformat_minor": 2
}
