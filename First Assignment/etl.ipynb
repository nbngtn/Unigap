{
 "cells": [
  {
   "cell_type": "code",
   "execution_count": 1,
   "metadata": {},
   "outputs": [],
   "source": [
    "import mysql.connector\n"
   ]
  },
  {
   "cell_type": "code",
   "execution_count": 2,
   "metadata": {},
   "outputs": [],
   "source": [
    "keywords = ['anh','chị','thuỷ tiên','công vinh', 'tiên','vinh', 'thuỷ', 'công', 'thủy', 'từ thiện', 'thiện', 'vk','ck', 'lũ', 'bão', 'cứu', 'vợ', 'chồng', 'tiền', 'tỉ', 'tỷ', 'anh', 'chi', 'cong', 'vinh', 'thuy', 'tien', 'vo', 'chong', 'đúng', 'sai', 'dung', 'phải', 'trái', 'tốt', 'xấu', 'tot', 'xau']"
   ]
  },
  {
   "cell_type": "code",
   "execution_count": 3,
   "metadata": {},
   "outputs": [],
   "source": [
    "keywords2 =  ['phân phối', 'dịch vụ', 'http', 'https', 'www', 'zalo', 'inb', 'ib', 'inbox', 'liên hệ', 'follow',  'xách tay', '#']"
   ]
  },
  {
   "cell_type": "code",
   "execution_count": 4,
   "metadata": {},
   "outputs": [],
   "source": [
    "comments = []\n",
    "with open('./200k_comments.csv', 'r') as f:\n",
    "    count = 0\n",
    "    for line in f:\n",
    "        comment = line.strip()\n",
    "        if any(keyword in comment.lower() for keyword in keywords) or not any(keyword in comment.lower() for keyword in keywords2):\n",
    "            comments.append(comment)\n",
    "        "
   ]
  },
  {
   "cell_type": "code",
   "execution_count": 15,
   "metadata": {},
   "outputs": [],
   "source": [
    "conn = mysql.connector.connect(\n",
    "    host=\"localhost\",\n",
    "    user=\"root\",\n",
    "    password=\"0000\",\n",
    "    database=\"fb_cmts\")"
   ]
  },
  {
   "cell_type": "code",
   "execution_count": 21,
   "metadata": {},
   "outputs": [],
   "source": [
    "for comment in comments:\n",
    "    cursor = conn.cursor()\n",
    "    cursor.execute(\"Insert into comments (content) values (%s)\", (comment,))\n",
    "    conn.commit()\n",
    "    cursor.close()"
   ]
  },
  {
   "cell_type": "code",
   "execution_count": null,
   "metadata": {},
   "outputs": [],
   "source": []
  }
 ],
 "metadata": {
  "kernelspec": {
   "display_name": "base",
   "language": "python",
   "name": "python3"
  },
  "language_info": {
   "codemirror_mode": {
    "name": "ipython",
    "version": 3
   },
   "file_extension": ".py",
   "mimetype": "text/x-python",
   "name": "python",
   "nbconvert_exporter": "python",
   "pygments_lexer": "ipython3",
   "version": "3.12.4"
  }
 },
 "nbformat": 4,
 "nbformat_minor": 2
}
